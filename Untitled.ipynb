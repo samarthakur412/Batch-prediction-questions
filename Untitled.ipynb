{
 "cells": [
  {
   "cell_type": "code",
   "execution_count": 28,
   "id": "35d36786-0561-497f-8863-04778a0bbcdb",
   "metadata": {},
   "outputs": [],
   "source": [
    "import pandas as pd\n",
    "from sklearn.datasets import load_iris\n",
    "\n",
    "iris = load_iris()\n",
    "data = pd.DataFrame(iris.data, columns=iris.feature_names)\n",
    "data['target'] = iris.target\n",
    "\n",
    "data.to_csv('data.csv', index=False)\n"
   ]
  },
  {
   "cell_type": "code",
   "execution_count": 29,
   "id": "7ca5aae7-3ede-463c-8873-2ca6a2931156",
   "metadata": {},
   "outputs": [
    {
     "name": "stdout",
     "output_type": "stream",
     "text": [
      "Model Accuracy: 1.0\n",
      "Model saved as 'model.pkl'.\n"
     ]
    }
   ],
   "source": [
    "import pandas as pd\n",
    "from sklearn.model_selection import train_test_split\n",
    "from sklearn.ensemble import RandomForestClassifier\n",
    "from sklearn.metrics import accuracy_score\n",
    "import joblib\n",
    "\n",
    "data = pd.read_csv('data.csv')\n",
    "\n",
    "X = data.drop('target', axis=1)\n",
    "y = data['target']\n",
    "\n",
    "X_train, X_test, y_train, y_test = train_test_split(X, y, test_size=0.2, random_state=42)\n",
    "\n",
    "model = RandomForestClassifier()\n",
    "model.fit(X_train, y_train)\n",
    "\n",
    "y_pred = model.predict(X_test)\n",
    "accuracy = accuracy_score(y_test, y_pred)\n",
    "print(f\"Model Accuracy: {accuracy}\")\n",
    "\n",
    "joblib.dump(model, 'model.pkl')\n",
    "print(\"Model saved as 'model.pkl'.\")\n"
   ]
  },
  {
   "cell_type": "code",
   "execution_count": 30,
   "id": "fcc85056-b273-4a86-8c5c-94f079a6f365",
   "metadata": {},
   "outputs": [],
   "source": [
    "import pandas as pd\n",
    "import joblib\n",
    "import logging\n",
    "\n",
    "logging.basicConfig(filename='batch_prediction.log', level=logging.INFO,\n",
    "                    format='%(asctime)s - %(levelname)s - %(message)s')\n",
    "\n",
    "logging.info('Batch prediction process started.')\n",
    "\n",
    "try:\n",
    "    model = joblib.load('model.pkl')\n",
    "    logging.info('Model loaded successfully.')\n",
    "\n",
    "    data = pd.read_csv('data.csv')\n",
    "    logging.info('Data loaded successfully.')\n",
    "\n",
    "    data.fillna(0, inplace=True)\n",
    "    logging.info('Data preprocessed (missing values filled).')\n",
    "\n",
    "    if 'target' in data.columns:\n",
    "        data = data.drop('target', axis=1)\n",
    "        logging.info(\"'target' column dropped for predictions.\")\n",
    "\n",
    "    predictions = model.predict(data)\n",
    "    logging.info('Predictions made successfully.')\n",
    "\n",
    "    output = pd.DataFrame({'Prediction': predictions})\n",
    "    output.to_csv('predictions.csv', index=False)\n",
    "    logging.info('Predictions saved to predictions.csv.')\n",
    "\n",
    "except Exception as e:\n",
    "    logging.error(f\"An error occurred: {e}\")\n",
    "\n",
    "logging.info('Batch prediction process completed.')\n"
   ]
  },
  {
   "cell_type": "code",
   "execution_count": null,
   "id": "6adc8bf5-7eb7-4fa1-a3e6-ce0a00cf70e9",
   "metadata": {},
   "outputs": [],
   "source": []
  }
 ],
 "metadata": {
  "kernelspec": {
   "display_name": "Python 3 (ipykernel)",
   "language": "python",
   "name": "python3"
  },
  "language_info": {
   "codemirror_mode": {
    "name": "ipython",
    "version": 3
   },
   "file_extension": ".py",
   "mimetype": "text/x-python",
   "name": "python",
   "nbconvert_exporter": "python",
   "pygments_lexer": "ipython3",
   "version": "3.12.4"
  }
 },
 "nbformat": 4,
 "nbformat_minor": 5
}
